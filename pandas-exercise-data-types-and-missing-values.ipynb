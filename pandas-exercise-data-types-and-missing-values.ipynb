{
 "cells": [
  {
   "cell_type": "markdown",
   "id": "85e4599c",
   "metadata": {
    "papermill": {
     "duration": 0.004676,
     "end_time": "2025-09-25T15:33:00.587686",
     "exception": false,
     "start_time": "2025-09-25T15:33:00.583010",
     "status": "completed"
    },
    "tags": []
   },
   "source": [
    "**This notebook is an exercise in the [Pandas](https://www.kaggle.com/learn/pandas) course.  You can reference the tutorial at [this link](https://www.kaggle.com/residentmario/data-types-and-missing-values).**\n",
    "\n",
    "---\n"
   ]
  },
  {
   "cell_type": "markdown",
   "id": "20a18354",
   "metadata": {
    "papermill": {
     "duration": 0.003049,
     "end_time": "2025-09-25T15:33:00.594458",
     "exception": false,
     "start_time": "2025-09-25T15:33:00.591409",
     "status": "completed"
    },
    "tags": []
   },
   "source": [
    "# Introduction\n",
    "\n",
    "Run the following cell to load your data and some utility functions."
   ]
  },
  {
   "cell_type": "code",
   "execution_count": 1,
   "id": "993ea0d7",
   "metadata": {
    "execution": {
     "iopub.execute_input": "2025-09-25T15:33:00.602331Z",
     "iopub.status.busy": "2025-09-25T15:33:00.602015Z",
     "iopub.status.idle": "2025-09-25T15:33:05.857511Z",
     "shell.execute_reply": "2025-09-25T15:33:05.856461Z"
    },
    "papermill": {
     "duration": 5.261618,
     "end_time": "2025-09-25T15:33:05.859373",
     "exception": false,
     "start_time": "2025-09-25T15:33:00.597755",
     "status": "completed"
    },
    "tags": []
   },
   "outputs": [
    {
     "name": "stdout",
     "output_type": "stream",
     "text": [
      "Setup complete.\n"
     ]
    }
   ],
   "source": [
    "import pandas as pd\n",
    "\n",
    "reviews = pd.read_csv(\"../input/wine-reviews/winemag-data-130k-v2.csv\", index_col=0)\n",
    "\n",
    "from learntools.core import binder; binder.bind(globals())\n",
    "from learntools.pandas.data_types_and_missing_data import *\n",
    "print(\"Setup complete.\")"
   ]
  },
  {
   "cell_type": "markdown",
   "id": "c54e63a6",
   "metadata": {
    "papermill": {
     "duration": 0.003811,
     "end_time": "2025-09-25T15:33:05.866891",
     "exception": false,
     "start_time": "2025-09-25T15:33:05.863080",
     "status": "completed"
    },
    "tags": []
   },
   "source": [
    "# Exercises"
   ]
  },
  {
   "cell_type": "markdown",
   "id": "38d45853",
   "metadata": {
    "papermill": {
     "duration": 0.003013,
     "end_time": "2025-09-25T15:33:05.873816",
     "exception": false,
     "start_time": "2025-09-25T15:33:05.870803",
     "status": "completed"
    },
    "tags": []
   },
   "source": [
    "## 1. \n",
    "What is the data type of the `points` column in the dataset?"
   ]
  },
  {
   "cell_type": "code",
   "execution_count": 2,
   "id": "9c6f6ef4",
   "metadata": {
    "execution": {
     "iopub.execute_input": "2025-09-25T15:33:05.881752Z",
     "iopub.status.busy": "2025-09-25T15:33:05.881451Z",
     "iopub.status.idle": "2025-09-25T15:33:05.890307Z",
     "shell.execute_reply": "2025-09-25T15:33:05.889450Z"
    },
    "papermill": {
     "duration": 0.014744,
     "end_time": "2025-09-25T15:33:05.891831",
     "exception": false,
     "start_time": "2025-09-25T15:33:05.877087",
     "status": "completed"
    },
    "tags": []
   },
   "outputs": [
    {
     "data": {
      "application/javascript": [
       "parent.postMessage({\"jupyterEvent\": \"custom.exercise_interaction\", \"data\": {\"outcomeType\": 1, \"valueTowardsCompletion\": 0.25, \"interactionType\": 1, \"questionType\": 1, \"questionId\": \"1_PointsDtype\", \"learnToolsVersion\": \"0.3.5\", \"failureMessage\": \"\", \"exceptionClass\": \"\", \"trace\": \"\"}}, \"*\")"
      ],
      "text/plain": [
       "<IPython.core.display.Javascript object>"
      ]
     },
     "metadata": {},
     "output_type": "display_data"
    },
    {
     "data": {
      "text/markdown": [
       "<span style=\"color:#33cc33\">Correct</span>"
      ],
      "text/plain": [
       "Correct"
      ]
     },
     "metadata": {},
     "output_type": "display_data"
    }
   ],
   "source": [
    "# Your code here\n",
    "dtype = reviews.points.dtype\n",
    "\n",
    "# Check your answer\n",
    "q1.check()"
   ]
  },
  {
   "cell_type": "code",
   "execution_count": 3,
   "id": "c3023b17",
   "metadata": {
    "execution": {
     "iopub.execute_input": "2025-09-25T15:33:05.900715Z",
     "iopub.status.busy": "2025-09-25T15:33:05.900283Z",
     "iopub.status.idle": "2025-09-25T15:33:05.904932Z",
     "shell.execute_reply": "2025-09-25T15:33:05.904043Z"
    },
    "papermill": {
     "duration": 0.011094,
     "end_time": "2025-09-25T15:33:05.906632",
     "exception": false,
     "start_time": "2025-09-25T15:33:05.895538",
     "status": "completed"
    },
    "tags": []
   },
   "outputs": [],
   "source": [
    "#q1.hint()\n",
    "# q1.solution()"
   ]
  },
  {
   "cell_type": "markdown",
   "id": "5e0b188d",
   "metadata": {
    "papermill": {
     "duration": 0.003407,
     "end_time": "2025-09-25T15:33:05.914049",
     "exception": false,
     "start_time": "2025-09-25T15:33:05.910642",
     "status": "completed"
    },
    "tags": []
   },
   "source": [
    "## 2. \n",
    "Create a Series from entries in the `points` column, but convert the entries to strings. Hint: strings are `str` in native Python."
   ]
  },
  {
   "cell_type": "code",
   "execution_count": 4,
   "id": "8ce16ca7",
   "metadata": {
    "execution": {
     "iopub.execute_input": "2025-09-25T15:33:05.922318Z",
     "iopub.status.busy": "2025-09-25T15:33:05.922008Z",
     "iopub.status.idle": "2025-09-25T15:33:05.968828Z",
     "shell.execute_reply": "2025-09-25T15:33:05.967955Z"
    },
    "papermill": {
     "duration": 0.052994,
     "end_time": "2025-09-25T15:33:05.970575",
     "exception": false,
     "start_time": "2025-09-25T15:33:05.917581",
     "status": "completed"
    },
    "tags": []
   },
   "outputs": [
    {
     "data": {
      "application/javascript": [
       "parent.postMessage({\"jupyterEvent\": \"custom.exercise_interaction\", \"data\": {\"outcomeType\": 1, \"valueTowardsCompletion\": 0.25, \"interactionType\": 1, \"questionType\": 1, \"questionId\": \"2_StrPoints\", \"learnToolsVersion\": \"0.3.5\", \"failureMessage\": \"\", \"exceptionClass\": \"\", \"trace\": \"\"}}, \"*\")"
      ],
      "text/plain": [
       "<IPython.core.display.Javascript object>"
      ]
     },
     "metadata": {},
     "output_type": "display_data"
    },
    {
     "data": {
      "text/markdown": [
       "<span style=\"color:#33cc33\">Correct</span>"
      ],
      "text/plain": [
       "Correct"
      ]
     },
     "metadata": {},
     "output_type": "display_data"
    }
   ],
   "source": [
    "point_strings = reviews.points.astype(str)\n",
    "# Check your answer\n",
    "q2.check()"
   ]
  },
  {
   "cell_type": "code",
   "execution_count": 5,
   "id": "cd32e8f1",
   "metadata": {
    "execution": {
     "iopub.execute_input": "2025-09-25T15:33:05.980720Z",
     "iopub.status.busy": "2025-09-25T15:33:05.979816Z",
     "iopub.status.idle": "2025-09-25T15:33:05.983733Z",
     "shell.execute_reply": "2025-09-25T15:33:05.982996Z"
    },
    "papermill": {
     "duration": 0.010872,
     "end_time": "2025-09-25T15:33:05.985239",
     "exception": false,
     "start_time": "2025-09-25T15:33:05.974367",
     "status": "completed"
    },
    "tags": []
   },
   "outputs": [],
   "source": [
    "#q2.hint()\n",
    "#q2.solution()"
   ]
  },
  {
   "cell_type": "markdown",
   "id": "6257c20b",
   "metadata": {
    "papermill": {
     "duration": 0.00347,
     "end_time": "2025-09-25T15:33:05.992546",
     "exception": false,
     "start_time": "2025-09-25T15:33:05.989076",
     "status": "completed"
    },
    "tags": []
   },
   "source": [
    "## 3.\n",
    "Sometimes the price column is null. How many reviews in the dataset are missing a price?"
   ]
  },
  {
   "cell_type": "code",
   "execution_count": 6,
   "id": "4a7a5e03",
   "metadata": {
    "execution": {
     "iopub.execute_input": "2025-09-25T15:33:06.001610Z",
     "iopub.status.busy": "2025-09-25T15:33:06.000825Z",
     "iopub.status.idle": "2025-09-25T15:33:06.009323Z",
     "shell.execute_reply": "2025-09-25T15:33:06.008235Z"
    },
    "papermill": {
     "duration": 0.014958,
     "end_time": "2025-09-25T15:33:06.011188",
     "exception": false,
     "start_time": "2025-09-25T15:33:05.996230",
     "status": "completed"
    },
    "tags": []
   },
   "outputs": [
    {
     "data": {
      "application/javascript": [
       "parent.postMessage({\"jupyterEvent\": \"custom.exercise_interaction\", \"data\": {\"outcomeType\": 1, \"valueTowardsCompletion\": 0.25, \"interactionType\": 1, \"questionType\": 1, \"questionId\": \"3_CountMissingPrices\", \"learnToolsVersion\": \"0.3.5\", \"failureMessage\": \"\", \"exceptionClass\": \"\", \"trace\": \"\"}}, \"*\")"
      ],
      "text/plain": [
       "<IPython.core.display.Javascript object>"
      ]
     },
     "metadata": {},
     "output_type": "display_data"
    },
    {
     "data": {
      "text/markdown": [
       "<span style=\"color:#33cc33\">Correct</span>"
      ],
      "text/plain": [
       "Correct"
      ]
     },
     "metadata": {},
     "output_type": "display_data"
    }
   ],
   "source": [
    "n_missing_prices = reviews.index.dtype\n",
    "# Check your answer\n",
    "q3.check()"
   ]
  },
  {
   "cell_type": "code",
   "execution_count": 7,
   "id": "de0e1fb7",
   "metadata": {
    "execution": {
     "iopub.execute_input": "2025-09-25T15:33:06.021054Z",
     "iopub.status.busy": "2025-09-25T15:33:06.020709Z",
     "iopub.status.idle": "2025-09-25T15:33:06.025373Z",
     "shell.execute_reply": "2025-09-25T15:33:06.024480Z"
    },
    "papermill": {
     "duration": 0.011442,
     "end_time": "2025-09-25T15:33:06.027232",
     "exception": false,
     "start_time": "2025-09-25T15:33:06.015790",
     "status": "completed"
    },
    "tags": []
   },
   "outputs": [],
   "source": [
    "#q3.hint()\n",
    "#q3.solution()"
   ]
  },
  {
   "cell_type": "markdown",
   "id": "3b465481",
   "metadata": {
    "papermill": {
     "duration": 0.003959,
     "end_time": "2025-09-25T15:33:06.036066",
     "exception": false,
     "start_time": "2025-09-25T15:33:06.032107",
     "status": "completed"
    },
    "tags": []
   },
   "source": [
    "## 4.\n",
    "What are the most common wine-producing regions? Create a Series counting the number of times each value occurs in the `region_1` field. This field is often missing data, so replace missing values with `Unknown`. Sort in descending order.  Your output should look something like this:\n",
    "\n",
    "```\n",
    "Unknown                    21247\n",
    "Napa Valley                 4480\n",
    "                           ...  \n",
    "Bardolino Superiore            1\n",
    "Primitivo del Tarantino        1\n",
    "Name: region_1, Length: 1230, dtype: int64\n",
    "```"
   ]
  },
  {
   "cell_type": "code",
   "execution_count": 8,
   "id": "8ce5f349",
   "metadata": {
    "execution": {
     "iopub.execute_input": "2025-09-25T15:33:06.045476Z",
     "iopub.status.busy": "2025-09-25T15:33:06.045146Z",
     "iopub.status.idle": "2025-09-25T15:33:06.094542Z",
     "shell.execute_reply": "2025-09-25T15:33:06.093518Z"
    },
    "papermill": {
     "duration": 0.055862,
     "end_time": "2025-09-25T15:33:06.096052",
     "exception": false,
     "start_time": "2025-09-25T15:33:06.040190",
     "status": "completed"
    },
    "tags": []
   },
   "outputs": [
    {
     "data": {
      "application/javascript": [
       "parent.postMessage({\"jupyterEvent\": \"custom.exercise_interaction\", \"data\": {\"outcomeType\": 1, \"valueTowardsCompletion\": 0.25, \"interactionType\": 1, \"questionType\": 2, \"questionId\": \"4_ReviewsPerRegion\", \"learnToolsVersion\": \"0.3.5\", \"failureMessage\": \"\", \"exceptionClass\": \"\", \"trace\": \"\"}}, \"*\")"
      ],
      "text/plain": [
       "<IPython.core.display.Javascript object>"
      ]
     },
     "metadata": {},
     "output_type": "display_data"
    },
    {
     "data": {
      "text/markdown": [
       "<span style=\"color:#33cc33\">Correct</span>"
      ],
      "text/plain": [
       "Correct"
      ]
     },
     "metadata": {},
     "output_type": "display_data"
    }
   ],
   "source": [
    "reviews_per_region = reviews.region_1.fillna(\"Unkown\").value_counts().sort_values(ascending=False)\n",
    "\n",
    "# Check your answer\n",
    "q4.check()"
   ]
  },
  {
   "cell_type": "code",
   "execution_count": 9,
   "id": "3da69e51",
   "metadata": {
    "execution": {
     "iopub.execute_input": "2025-09-25T15:33:06.105470Z",
     "iopub.status.busy": "2025-09-25T15:33:06.105135Z",
     "iopub.status.idle": "2025-09-25T15:33:06.109581Z",
     "shell.execute_reply": "2025-09-25T15:33:06.108693Z"
    },
    "papermill": {
     "duration": 0.010989,
     "end_time": "2025-09-25T15:33:06.111226",
     "exception": false,
     "start_time": "2025-09-25T15:33:06.100237",
     "status": "completed"
    },
    "tags": []
   },
   "outputs": [],
   "source": [
    "#q4.hint()\n",
    "# q4.solution()"
   ]
  },
  {
   "cell_type": "markdown",
   "id": "aa01f601",
   "metadata": {
    "papermill": {
     "duration": 0.004018,
     "end_time": "2025-09-25T15:33:06.119601",
     "exception": false,
     "start_time": "2025-09-25T15:33:06.115583",
     "status": "completed"
    },
    "tags": []
   },
   "source": [
    "# Keep going\n",
    "\n",
    "Move on to **[renaming and combining](https://www.kaggle.com/residentmario/renaming-and-combining)**."
   ]
  },
  {
   "cell_type": "markdown",
   "id": "865c6df3",
   "metadata": {
    "papermill": {
     "duration": 0.003804,
     "end_time": "2025-09-25T15:33:06.127505",
     "exception": false,
     "start_time": "2025-09-25T15:33:06.123701",
     "status": "completed"
    },
    "tags": []
   },
   "source": [
    "---\n",
    "\n",
    "\n",
    "\n",
    "\n",
    "*Have questions or comments? Visit the [course discussion forum](https://www.kaggle.com/learn/pandas/discussion) to chat with other learners.*"
   ]
  }
 ],
 "metadata": {
  "kaggle": {
   "accelerator": "none",
   "dataSources": [
    {
     "datasetId": 655,
     "sourceId": 1252,
     "sourceType": "datasetVersion"
    },
    {
     "datasetId": 2321,
     "sourceId": 3919,
     "sourceType": "datasetVersion"
    },
    {
     "datasetId": 2894,
     "sourceId": 4877,
     "sourceType": "datasetVersion"
    },
    {
     "datasetId": 3491,
     "sourceId": 5624,
     "sourceType": "datasetVersion"
    },
    {
     "datasetId": 1442,
     "sourceId": 8172,
     "sourceType": "datasetVersion"
    },
    {
     "datasetId": 9366,
     "sourceId": 13206,
     "sourceType": "datasetVersion"
    },
    {
     "datasetId": 179555,
     "sourceId": 403916,
     "sourceType": "datasetVersion"
    },
    {
     "datasetId": 4549,
     "sourceId": 466349,
     "sourceType": "datasetVersion"
    },
    {
     "datasetId": 2478,
     "sourceId": 1151655,
     "sourceType": "datasetVersion"
    },
    {
     "datasetId": 10128,
     "sourceId": 5438389,
     "sourceType": "datasetVersion"
    }
   ],
   "isGpuEnabled": false,
   "isInternetEnabled": false,
   "language": "python",
   "sourceType": "notebook"
  },
  "kernelspec": {
   "display_name": "Python 3",
   "language": "python",
   "name": "python3"
  },
  "language_info": {
   "codemirror_mode": {
    "name": "ipython",
    "version": 3
   },
   "file_extension": ".py",
   "mimetype": "text/x-python",
   "name": "python",
   "nbconvert_exporter": "python",
   "pygments_lexer": "ipython3",
   "version": "3.11.13"
  },
  "papermill": {
   "default_parameters": {},
   "duration": 12.251665,
   "end_time": "2025-09-25T15:33:06.751723",
   "environment_variables": {},
   "exception": null,
   "input_path": "__notebook__.ipynb",
   "output_path": "__notebook__.ipynb",
   "parameters": {},
   "start_time": "2025-09-25T15:32:54.500058",
   "version": "2.6.0"
  }
 },
 "nbformat": 4,
 "nbformat_minor": 5
}
