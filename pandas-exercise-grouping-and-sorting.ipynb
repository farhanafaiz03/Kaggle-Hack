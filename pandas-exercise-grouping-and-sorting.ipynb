{
 "cells": [
  {
   "cell_type": "markdown",
   "id": "704176cb",
   "metadata": {
    "papermill": {
     "duration": 0.005196,
     "end_time": "2025-09-25T15:13:03.418596",
     "exception": false,
     "start_time": "2025-09-25T15:13:03.413400",
     "status": "completed"
    },
    "tags": []
   },
   "source": [
    "**This notebook is an exercise in the [Pandas](https://www.kaggle.com/learn/pandas) course.  You can reference the tutorial at [this link](https://www.kaggle.com/residentmario/grouping-and-sorting).**\n",
    "\n",
    "---\n"
   ]
  },
  {
   "cell_type": "markdown",
   "id": "ef4228fd",
   "metadata": {
    "papermill": {
     "duration": 0.004284,
     "end_time": "2025-09-25T15:13:03.427620",
     "exception": false,
     "start_time": "2025-09-25T15:13:03.423336",
     "status": "completed"
    },
    "tags": []
   },
   "source": [
    "# Introduction\n",
    "\n",
    "In these exercises we'll apply groupwise analysis to our dataset.\n",
    "\n",
    "Run the code cell below to load the data before running the exercises."
   ]
  },
  {
   "cell_type": "code",
   "execution_count": 1,
   "id": "36f6660a",
   "metadata": {
    "execution": {
     "iopub.execute_input": "2025-09-25T15:13:03.438003Z",
     "iopub.status.busy": "2025-09-25T15:13:03.437552Z",
     "iopub.status.idle": "2025-09-25T15:13:08.822435Z",
     "shell.execute_reply": "2025-09-25T15:13:08.821203Z"
    },
    "papermill": {
     "duration": 5.392281,
     "end_time": "2025-09-25T15:13:08.824265",
     "exception": false,
     "start_time": "2025-09-25T15:13:03.431984",
     "status": "completed"
    },
    "tags": []
   },
   "outputs": [
    {
     "name": "stdout",
     "output_type": "stream",
     "text": [
      "Setup complete.\n"
     ]
    },
    {
     "name": "stderr",
     "output_type": "stream",
     "text": [
      "/usr/local/lib/python3.11/dist-packages/learntools/pandas/grouping_and_sorting.py:29: FutureWarning: The provided callable <built-in function min> is currently using SeriesGroupBy.min. In a future version of pandas, the provided callable will be used directly. To keep current behavior pass the string \"min\" instead.\n",
      "  _expected = reviews.groupby('variety').price.agg([min, max])\n",
      "/usr/local/lib/python3.11/dist-packages/learntools/pandas/grouping_and_sorting.py:29: FutureWarning: The provided callable <built-in function max> is currently using SeriesGroupBy.max. In a future version of pandas, the provided callable will be used directly. To keep current behavior pass the string \"max\" instead.\n",
      "  _expected = reviews.groupby('variety').price.agg([min, max])\n",
      "/usr/local/lib/python3.11/dist-packages/learntools/pandas/grouping_and_sorting.py:35: FutureWarning: The provided callable <built-in function min> is currently using SeriesGroupBy.min. In a future version of pandas, the provided callable will be used directly. To keep current behavior pass the string \"min\" instead.\n",
      "  _expected = reviews.groupby('variety').price.agg([min, max]).sort_values(by=['min', 'max'], ascending=False)\n",
      "/usr/local/lib/python3.11/dist-packages/learntools/pandas/grouping_and_sorting.py:35: FutureWarning: The provided callable <built-in function max> is currently using SeriesGroupBy.max. In a future version of pandas, the provided callable will be used directly. To keep current behavior pass the string \"max\" instead.\n",
      "  _expected = reviews.groupby('variety').price.agg([min, max]).sort_values(by=['min', 'max'], ascending=False)\n"
     ]
    }
   ],
   "source": [
    "import pandas as pd\n",
    "\n",
    "reviews = pd.read_csv(\"../input/wine-reviews/winemag-data-130k-v2.csv\", index_col=0)\n",
    "#pd.set_option(\"display.max_rows\", 5)\n",
    "\n",
    "from learntools.core import binder; binder.bind(globals())\n",
    "from learntools.pandas.grouping_and_sorting import *\n",
    "print(\"Setup complete.\")"
   ]
  },
  {
   "cell_type": "markdown",
   "id": "c1850001",
   "metadata": {
    "papermill": {
     "duration": 0.004585,
     "end_time": "2025-09-25T15:13:08.834395",
     "exception": false,
     "start_time": "2025-09-25T15:13:08.829810",
     "status": "completed"
    },
    "tags": []
   },
   "source": [
    "# Exercises"
   ]
  },
  {
   "cell_type": "markdown",
   "id": "89bb1945",
   "metadata": {
    "papermill": {
     "duration": 0.004246,
     "end_time": "2025-09-25T15:13:08.843803",
     "exception": false,
     "start_time": "2025-09-25T15:13:08.839557",
     "status": "completed"
    },
    "tags": []
   },
   "source": [
    "## 1.\n",
    "Who are the most common wine reviewers in the dataset? Create a `Series` whose index is the `taster_twitter_handle` category from the dataset, and whose values count how many reviews each person wrote."
   ]
  },
  {
   "cell_type": "code",
   "execution_count": 2,
   "id": "5eddafe8",
   "metadata": {
    "execution": {
     "iopub.execute_input": "2025-09-25T15:13:08.855160Z",
     "iopub.status.busy": "2025-09-25T15:13:08.854796Z",
     "iopub.status.idle": "2025-09-25T15:13:08.893846Z",
     "shell.execute_reply": "2025-09-25T15:13:08.892871Z"
    },
    "papermill": {
     "duration": 0.046749,
     "end_time": "2025-09-25T15:13:08.895399",
     "exception": false,
     "start_time": "2025-09-25T15:13:08.848650",
     "status": "completed"
    },
    "tags": []
   },
   "outputs": [
    {
     "data": {
      "application/javascript": [
       "parent.postMessage({\"jupyterEvent\": \"custom.exercise_interaction\", \"data\": {\"outcomeType\": 1, \"valueTowardsCompletion\": 0.16666666666666666, \"interactionType\": 1, \"questionType\": 1, \"questionId\": \"1_ReviewsWritten\", \"learnToolsVersion\": \"0.3.5\", \"failureMessage\": \"\", \"exceptionClass\": \"\", \"trace\": \"\"}}, \"*\")"
      ],
      "text/plain": [
       "<IPython.core.display.Javascript object>"
      ]
     },
     "metadata": {},
     "output_type": "display_data"
    },
    {
     "data": {
      "text/markdown": [
       "<span style=\"color:#33cc33\">Correct:</span> \n",
       "\n",
       "\n",
       "```python\n",
       "reviews_written = reviews.groupby('taster_twitter_handle').size()\n",
       "```\n",
       "or\n",
       "```python\n",
       "reviews_written = reviews.groupby('taster_twitter_handle').taster_twitter_handle.count()\n",
       "```\n"
      ],
      "text/plain": [
       "Correct: \n",
       "\n",
       "\n",
       "```python\n",
       "reviews_written = reviews.groupby('taster_twitter_handle').size()\n",
       "```\n",
       "or\n",
       "```python\n",
       "reviews_written = reviews.groupby('taster_twitter_handle').taster_twitter_handle.count()\n",
       "```"
      ]
     },
     "metadata": {},
     "output_type": "display_data"
    }
   ],
   "source": [
    "# Your code here\n",
    "reviews_written = reviews.groupby('taster_twitter_handle').taster_twitter_handle.count()\n",
    "reviews_written = reviews.groupby('taster_twitter_handle').size()\n",
    "\n",
    "# Check your answer\n",
    "q1.check()"
   ]
  },
  {
   "cell_type": "code",
   "execution_count": 3,
   "id": "1769159f",
   "metadata": {
    "execution": {
     "iopub.execute_input": "2025-09-25T15:13:08.907354Z",
     "iopub.status.busy": "2025-09-25T15:13:08.906391Z",
     "iopub.status.idle": "2025-09-25T15:13:08.910896Z",
     "shell.execute_reply": "2025-09-25T15:13:08.909917Z"
    },
    "papermill": {
     "duration": 0.012036,
     "end_time": "2025-09-25T15:13:08.912537",
     "exception": false,
     "start_time": "2025-09-25T15:13:08.900501",
     "status": "completed"
    },
    "tags": []
   },
   "outputs": [],
   "source": [
    "#q1.hint()\n",
    "#q1.solution()"
   ]
  },
  {
   "cell_type": "markdown",
   "id": "28466148",
   "metadata": {
    "papermill": {
     "duration": 0.004411,
     "end_time": "2025-09-25T15:13:08.922689",
     "exception": false,
     "start_time": "2025-09-25T15:13:08.918278",
     "status": "completed"
    },
    "tags": []
   },
   "source": [
    "## 2.\n",
    "What is the best wine I can buy for a given amount of money? Create a `Series` whose index is wine prices and whose values is the maximum number of points a wine costing that much was given in a review. Sort the values by price, ascending (so that `4.0` dollars is at the top and `3300.0` dollars is at the bottom)."
   ]
  },
  {
   "cell_type": "code",
   "execution_count": 4,
   "id": "9f948d0c",
   "metadata": {
    "execution": {
     "iopub.execute_input": "2025-09-25T15:13:08.933180Z",
     "iopub.status.busy": "2025-09-25T15:13:08.932796Z",
     "iopub.status.idle": "2025-09-25T15:13:08.945993Z",
     "shell.execute_reply": "2025-09-25T15:13:08.945034Z"
    },
    "papermill": {
     "duration": 0.020518,
     "end_time": "2025-09-25T15:13:08.947685",
     "exception": false,
     "start_time": "2025-09-25T15:13:08.927167",
     "status": "completed"
    },
    "tags": []
   },
   "outputs": [
    {
     "data": {
      "application/javascript": [
       "parent.postMessage({\"jupyterEvent\": \"custom.exercise_interaction\", \"data\": {\"outcomeType\": 1, \"valueTowardsCompletion\": 0.16666666666666666, \"interactionType\": 1, \"questionType\": 1, \"questionId\": \"2_BestRatingPerPrice\", \"learnToolsVersion\": \"0.3.5\", \"failureMessage\": \"\", \"exceptionClass\": \"\", \"trace\": \"\"}}, \"*\")"
      ],
      "text/plain": [
       "<IPython.core.display.Javascript object>"
      ]
     },
     "metadata": {},
     "output_type": "display_data"
    },
    {
     "data": {
      "text/markdown": [
       "<span style=\"color:#33cc33\">Correct</span>"
      ],
      "text/plain": [
       "Correct"
      ]
     },
     "metadata": {},
     "output_type": "display_data"
    }
   ],
   "source": [
    "best_rating_per_price = reviews.groupby('price')['points'].max().sort_index()\n",
    "# Check your answer\n",
    "q2.check()"
   ]
  },
  {
   "cell_type": "code",
   "execution_count": 5,
   "id": "2135b344",
   "metadata": {
    "execution": {
     "iopub.execute_input": "2025-09-25T15:13:08.959067Z",
     "iopub.status.busy": "2025-09-25T15:13:08.958773Z",
     "iopub.status.idle": "2025-09-25T15:13:08.963831Z",
     "shell.execute_reply": "2025-09-25T15:13:08.962626Z"
    },
    "papermill": {
     "duration": 0.01304,
     "end_time": "2025-09-25T15:13:08.965755",
     "exception": false,
     "start_time": "2025-09-25T15:13:08.952715",
     "status": "completed"
    },
    "tags": []
   },
   "outputs": [],
   "source": [
    "#q2.hint()\n",
    "# q2.solution()"
   ]
  },
  {
   "cell_type": "markdown",
   "id": "3e20c2ba",
   "metadata": {
    "papermill": {
     "duration": 0.004648,
     "end_time": "2025-09-25T15:13:08.976061",
     "exception": false,
     "start_time": "2025-09-25T15:13:08.971413",
     "status": "completed"
    },
    "tags": []
   },
   "source": [
    "## 3.\n",
    "What are the minimum and maximum prices for each `variety` of wine? Create a `DataFrame` whose index is the `variety` category from the dataset and whose values are the `min` and `max` values thereof."
   ]
  },
  {
   "cell_type": "code",
   "execution_count": 6,
   "id": "b80a7b71",
   "metadata": {
    "execution": {
     "iopub.execute_input": "2025-09-25T15:13:08.987155Z",
     "iopub.status.busy": "2025-09-25T15:13:08.986823Z",
     "iopub.status.idle": "2025-09-25T15:13:09.013307Z",
     "shell.execute_reply": "2025-09-25T15:13:09.012361Z"
    },
    "papermill": {
     "duration": 0.033866,
     "end_time": "2025-09-25T15:13:09.015013",
     "exception": false,
     "start_time": "2025-09-25T15:13:08.981147",
     "status": "completed"
    },
    "tags": []
   },
   "outputs": [
    {
     "name": "stderr",
     "output_type": "stream",
     "text": [
      "/tmp/ipykernel_13/4085108108.py:1: FutureWarning: The provided callable <built-in function min> is currently using SeriesGroupBy.min. In a future version of pandas, the provided callable will be used directly. To keep current behavior pass the string \"min\" instead.\n",
      "  price_extremes = reviews.groupby('variety').price.agg([min, max])\n",
      "/tmp/ipykernel_13/4085108108.py:1: FutureWarning: The provided callable <built-in function max> is currently using SeriesGroupBy.max. In a future version of pandas, the provided callable will be used directly. To keep current behavior pass the string \"max\" instead.\n",
      "  price_extremes = reviews.groupby('variety').price.agg([min, max])\n"
     ]
    },
    {
     "data": {
      "application/javascript": [
       "parent.postMessage({\"jupyterEvent\": \"custom.exercise_interaction\", \"data\": {\"outcomeType\": 1, \"valueTowardsCompletion\": 0.16666666666666666, \"interactionType\": 1, \"questionType\": 1, \"questionId\": \"3_PriceExtremes\", \"learnToolsVersion\": \"0.3.5\", \"failureMessage\": \"\", \"exceptionClass\": \"\", \"trace\": \"\"}}, \"*\")"
      ],
      "text/plain": [
       "<IPython.core.display.Javascript object>"
      ]
     },
     "metadata": {},
     "output_type": "display_data"
    },
    {
     "data": {
      "text/markdown": [
       "<span style=\"color:#33cc33\">Correct</span>"
      ],
      "text/plain": [
       "Correct"
      ]
     },
     "metadata": {},
     "output_type": "display_data"
    }
   ],
   "source": [
    "price_extremes = reviews.groupby('variety').price.agg([min, max])\n",
    "\n",
    "# Check your answer\n",
    "q3.check()"
   ]
  },
  {
   "cell_type": "code",
   "execution_count": 7,
   "id": "a69d9d57",
   "metadata": {
    "execution": {
     "iopub.execute_input": "2025-09-25T15:13:09.027325Z",
     "iopub.status.busy": "2025-09-25T15:13:09.026971Z",
     "iopub.status.idle": "2025-09-25T15:13:09.031261Z",
     "shell.execute_reply": "2025-09-25T15:13:09.030102Z"
    },
    "papermill": {
     "duration": 0.012547,
     "end_time": "2025-09-25T15:13:09.032966",
     "exception": false,
     "start_time": "2025-09-25T15:13:09.020419",
     "status": "completed"
    },
    "tags": []
   },
   "outputs": [],
   "source": [
    "#q3.hint()\n",
    "# q3.solution()"
   ]
  },
  {
   "cell_type": "markdown",
   "id": "39171235",
   "metadata": {
    "papermill": {
     "duration": 0.004894,
     "end_time": "2025-09-25T15:13:09.043313",
     "exception": false,
     "start_time": "2025-09-25T15:13:09.038419",
     "status": "completed"
    },
    "tags": []
   },
   "source": [
    "## 4.\n",
    "What are the most expensive wine varieties? Create a variable `sorted_varieties` containing a copy of the dataframe from the previous question where varieties are sorted in descending order based on minimum price, then on maximum price (to break ties)."
   ]
  },
  {
   "cell_type": "code",
   "execution_count": 8,
   "id": "9906e2b5",
   "metadata": {
    "execution": {
     "iopub.execute_input": "2025-09-25T15:13:09.055360Z",
     "iopub.status.busy": "2025-09-25T15:13:09.054977Z",
     "iopub.status.idle": "2025-09-25T15:13:09.066632Z",
     "shell.execute_reply": "2025-09-25T15:13:09.065612Z"
    },
    "papermill": {
     "duration": 0.019826,
     "end_time": "2025-09-25T15:13:09.068237",
     "exception": false,
     "start_time": "2025-09-25T15:13:09.048411",
     "status": "completed"
    },
    "tags": []
   },
   "outputs": [
    {
     "data": {
      "application/javascript": [
       "parent.postMessage({\"jupyterEvent\": \"custom.exercise_interaction\", \"data\": {\"outcomeType\": 1, \"valueTowardsCompletion\": 0.16666666666666666, \"interactionType\": 1, \"questionType\": 1, \"questionId\": \"4_SortedVarieties\", \"learnToolsVersion\": \"0.3.5\", \"failureMessage\": \"\", \"exceptionClass\": \"\", \"trace\": \"\"}}, \"*\")"
      ],
      "text/plain": [
       "<IPython.core.display.Javascript object>"
      ]
     },
     "metadata": {},
     "output_type": "display_data"
    },
    {
     "data": {
      "text/markdown": [
       "<span style=\"color:#33cc33\">Correct</span>"
      ],
      "text/plain": [
       "Correct"
      ]
     },
     "metadata": {},
     "output_type": "display_data"
    }
   ],
   "source": [
    "sorted_varieties = price_extremes.sort_values(by=['min', 'max'], ascending=False)\n",
    "\n",
    "# Check your answer\n",
    "q4.check()"
   ]
  },
  {
   "cell_type": "code",
   "execution_count": 9,
   "id": "eacaa5a8",
   "metadata": {
    "execution": {
     "iopub.execute_input": "2025-09-25T15:13:09.080947Z",
     "iopub.status.busy": "2025-09-25T15:13:09.080278Z",
     "iopub.status.idle": "2025-09-25T15:13:09.084988Z",
     "shell.execute_reply": "2025-09-25T15:13:09.083696Z"
    },
    "papermill": {
     "duration": 0.013489,
     "end_time": "2025-09-25T15:13:09.087303",
     "exception": false,
     "start_time": "2025-09-25T15:13:09.073814",
     "status": "completed"
    },
    "tags": []
   },
   "outputs": [],
   "source": [
    "#q4.hint()\n",
    "# q4.solution()"
   ]
  },
  {
   "cell_type": "markdown",
   "id": "84755d5e",
   "metadata": {
    "papermill": {
     "duration": 0.00529,
     "end_time": "2025-09-25T15:13:09.098868",
     "exception": false,
     "start_time": "2025-09-25T15:13:09.093578",
     "status": "completed"
    },
    "tags": []
   },
   "source": [
    "## 5.\n",
    "Create a `Series` whose index is reviewers and whose values is the average review score given out by that reviewer. Hint: you will need the `taster_name` and `points` columns."
   ]
  },
  {
   "cell_type": "code",
   "execution_count": 10,
   "id": "27dc00e1",
   "metadata": {
    "execution": {
     "iopub.execute_input": "2025-09-25T15:13:09.110526Z",
     "iopub.status.busy": "2025-09-25T15:13:09.110209Z",
     "iopub.status.idle": "2025-09-25T15:13:09.132301Z",
     "shell.execute_reply": "2025-09-25T15:13:09.131083Z"
    },
    "papermill": {
     "duration": 0.030582,
     "end_time": "2025-09-25T15:13:09.134542",
     "exception": false,
     "start_time": "2025-09-25T15:13:09.103960",
     "status": "completed"
    },
    "tags": []
   },
   "outputs": [
    {
     "data": {
      "application/javascript": [
       "parent.postMessage({\"jupyterEvent\": \"custom.exercise_interaction\", \"data\": {\"outcomeType\": 1, \"valueTowardsCompletion\": 0.16666666666666666, \"interactionType\": 1, \"questionType\": 1, \"questionId\": \"5_ReviewerMeanRatings\", \"learnToolsVersion\": \"0.3.5\", \"failureMessage\": \"\", \"exceptionClass\": \"\", \"trace\": \"\"}}, \"*\")"
      ],
      "text/plain": [
       "<IPython.core.display.Javascript object>"
      ]
     },
     "metadata": {},
     "output_type": "display_data"
    },
    {
     "data": {
      "text/markdown": [
       "<span style=\"color:#33cc33\">Correct</span>"
      ],
      "text/plain": [
       "Correct"
      ]
     },
     "metadata": {},
     "output_type": "display_data"
    }
   ],
   "source": [
    "reviewer_mean_ratings = reviews.groupby('taster_name').points.mean()\n",
    "# Check your answer\n",
    "q5.check()"
   ]
  },
  {
   "cell_type": "code",
   "execution_count": 11,
   "id": "c7421c87",
   "metadata": {
    "execution": {
     "iopub.execute_input": "2025-09-25T15:13:09.147264Z",
     "iopub.status.busy": "2025-09-25T15:13:09.146886Z",
     "iopub.status.idle": "2025-09-25T15:13:09.152376Z",
     "shell.execute_reply": "2025-09-25T15:13:09.150800Z"
    },
    "papermill": {
     "duration": 0.013907,
     "end_time": "2025-09-25T15:13:09.154215",
     "exception": false,
     "start_time": "2025-09-25T15:13:09.140308",
     "status": "completed"
    },
    "tags": []
   },
   "outputs": [],
   "source": [
    "#q5.hint()\n",
    "# q5.solution()"
   ]
  },
  {
   "cell_type": "markdown",
   "id": "98752a76",
   "metadata": {
    "papermill": {
     "duration": 0.005462,
     "end_time": "2025-09-25T15:13:09.165301",
     "exception": false,
     "start_time": "2025-09-25T15:13:09.159839",
     "status": "completed"
    },
    "tags": []
   },
   "source": [
    "Are there significant differences in the average scores assigned by the various reviewers? Run the cell below to use the `describe()` method to see a summary of the range of values."
   ]
  },
  {
   "cell_type": "code",
   "execution_count": 12,
   "id": "c335531e",
   "metadata": {
    "execution": {
     "iopub.execute_input": "2025-09-25T15:13:09.178239Z",
     "iopub.status.busy": "2025-09-25T15:13:09.177181Z",
     "iopub.status.idle": "2025-09-25T15:13:09.191433Z",
     "shell.execute_reply": "2025-09-25T15:13:09.190193Z"
    },
    "papermill": {
     "duration": 0.022469,
     "end_time": "2025-09-25T15:13:09.193197",
     "exception": false,
     "start_time": "2025-09-25T15:13:09.170728",
     "status": "completed"
    },
    "tags": []
   },
   "outputs": [
    {
     "data": {
      "text/plain": [
       "count    19.000000\n",
       "mean     88.233026\n",
       "std       1.243610\n",
       "min      85.855422\n",
       "25%      87.323501\n",
       "50%      88.536235\n",
       "75%      88.975256\n",
       "max      90.562551\n",
       "Name: points, dtype: float64"
      ]
     },
     "execution_count": 12,
     "metadata": {},
     "output_type": "execute_result"
    }
   ],
   "source": [
    "reviewer_mean_ratings.describe()"
   ]
  },
  {
   "cell_type": "markdown",
   "id": "ece08251",
   "metadata": {
    "papermill": {
     "duration": 0.005306,
     "end_time": "2025-09-25T15:13:09.204228",
     "exception": false,
     "start_time": "2025-09-25T15:13:09.198922",
     "status": "completed"
    },
    "tags": []
   },
   "source": [
    "## 6.\n",
    "What combination of countries and varieties are most common? Create a `Series` whose index is a `MultiIndex`of `{country, variety}` pairs. For example, a pinot noir produced in the US should map to `{\"US\", \"Pinot Noir\"}`. Sort the values in the `Series` in descending order based on wine count."
   ]
  },
  {
   "cell_type": "code",
   "execution_count": 13,
   "id": "5d45ff51",
   "metadata": {
    "execution": {
     "iopub.execute_input": "2025-09-25T15:13:09.217355Z",
     "iopub.status.busy": "2025-09-25T15:13:09.216557Z",
     "iopub.status.idle": "2025-09-25T15:13:09.254261Z",
     "shell.execute_reply": "2025-09-25T15:13:09.252903Z"
    },
    "papermill": {
     "duration": 0.04616,
     "end_time": "2025-09-25T15:13:09.256011",
     "exception": false,
     "start_time": "2025-09-25T15:13:09.209851",
     "status": "completed"
    },
    "tags": []
   },
   "outputs": [
    {
     "data": {
      "application/javascript": [
       "parent.postMessage({\"jupyterEvent\": \"custom.exercise_interaction\", \"data\": {\"outcomeType\": 1, \"valueTowardsCompletion\": 0.16666666666666666, \"interactionType\": 1, \"questionType\": 1, \"questionId\": \"6_GroupbyCountryVariety\", \"learnToolsVersion\": \"0.3.5\", \"failureMessage\": \"\", \"exceptionClass\": \"\", \"trace\": \"\"}}, \"*\")"
      ],
      "text/plain": [
       "<IPython.core.display.Javascript object>"
      ]
     },
     "metadata": {},
     "output_type": "display_data"
    },
    {
     "data": {
      "text/markdown": [
       "<span style=\"color:#33cc33\">Correct</span>"
      ],
      "text/plain": [
       "Correct"
      ]
     },
     "metadata": {},
     "output_type": "display_data"
    }
   ],
   "source": [
    "country_variety_counts = reviews.groupby(['country', 'variety']).size().sort_values(ascending=False)\n",
    "\n",
    "# Check your answer\n",
    "q6.check()"
   ]
  },
  {
   "cell_type": "code",
   "execution_count": 14,
   "id": "4da99858",
   "metadata": {
    "execution": {
     "iopub.execute_input": "2025-09-25T15:13:09.269508Z",
     "iopub.status.busy": "2025-09-25T15:13:09.268851Z",
     "iopub.status.idle": "2025-09-25T15:13:09.273062Z",
     "shell.execute_reply": "2025-09-25T15:13:09.272195Z"
    },
    "papermill": {
     "duration": 0.013019,
     "end_time": "2025-09-25T15:13:09.274834",
     "exception": false,
     "start_time": "2025-09-25T15:13:09.261815",
     "status": "completed"
    },
    "tags": []
   },
   "outputs": [],
   "source": [
    "#q6.hint()\n",
    "# q6.solution()"
   ]
  },
  {
   "cell_type": "markdown",
   "id": "6025861a",
   "metadata": {
    "papermill": {
     "duration": 0.005734,
     "end_time": "2025-09-25T15:13:09.286613",
     "exception": false,
     "start_time": "2025-09-25T15:13:09.280879",
     "status": "completed"
    },
    "tags": []
   },
   "source": [
    "# Keep going\n",
    "\n",
    "Move on to the [**data types and missing data**](https://www.kaggle.com/residentmario/data-types-and-missing-values)."
   ]
  },
  {
   "cell_type": "markdown",
   "id": "7f88674a",
   "metadata": {
    "papermill": {
     "duration": 0.005682,
     "end_time": "2025-09-25T15:13:09.298160",
     "exception": false,
     "start_time": "2025-09-25T15:13:09.292478",
     "status": "completed"
    },
    "tags": []
   },
   "source": [
    "---\n",
    "\n",
    "\n",
    "\n",
    "\n",
    "*Have questions or comments? Visit the [course discussion forum](https://www.kaggle.com/learn/pandas/discussion) to chat with other learners.*"
   ]
  }
 ],
 "metadata": {
  "kaggle": {
   "accelerator": "none",
   "dataSources": [
    {
     "datasetId": 655,
     "sourceId": 1252,
     "sourceType": "datasetVersion"
    },
    {
     "datasetId": 2321,
     "sourceId": 3919,
     "sourceType": "datasetVersion"
    },
    {
     "datasetId": 2894,
     "sourceId": 4877,
     "sourceType": "datasetVersion"
    },
    {
     "datasetId": 3491,
     "sourceId": 5624,
     "sourceType": "datasetVersion"
    },
    {
     "datasetId": 1442,
     "sourceId": 8172,
     "sourceType": "datasetVersion"
    },
    {
     "datasetId": 9366,
     "sourceId": 13206,
     "sourceType": "datasetVersion"
    },
    {
     "datasetId": 179555,
     "sourceId": 403916,
     "sourceType": "datasetVersion"
    },
    {
     "datasetId": 4549,
     "sourceId": 466349,
     "sourceType": "datasetVersion"
    },
    {
     "datasetId": 2478,
     "sourceId": 1151655,
     "sourceType": "datasetVersion"
    },
    {
     "datasetId": 10128,
     "sourceId": 5438389,
     "sourceType": "datasetVersion"
    }
   ],
   "isGpuEnabled": false,
   "isInternetEnabled": false,
   "language": "python",
   "sourceType": "notebook"
  },
  "kernelspec": {
   "display_name": "Python 3",
   "language": "python",
   "name": "python3"
  },
  "language_info": {
   "codemirror_mode": {
    "name": "ipython",
    "version": 3
   },
   "file_extension": ".py",
   "mimetype": "text/x-python",
   "name": "python",
   "nbconvert_exporter": "python",
   "pygments_lexer": "ipython3",
   "version": "3.11.13"
  },
  "papermill": {
   "default_parameters": {},
   "duration": 13.408747,
   "end_time": "2025-09-25T15:13:09.925745",
   "environment_variables": {},
   "exception": null,
   "input_path": "__notebook__.ipynb",
   "output_path": "__notebook__.ipynb",
   "parameters": {},
   "start_time": "2025-09-25T15:12:56.516998",
   "version": "2.6.0"
  }
 },
 "nbformat": 4,
 "nbformat_minor": 5
}
